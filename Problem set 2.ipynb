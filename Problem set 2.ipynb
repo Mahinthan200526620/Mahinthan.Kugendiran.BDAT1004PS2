{
 "cells": [
  {
   "cell_type": "markdown",
   "id": "5ab57a88",
   "metadata": {},
   "source": [
    "# Question 1 - Answer"
   ]
  },
  {
   "cell_type": "code",
   "execution_count": 19,
   "id": "9d224f58",
   "metadata": {},
   "outputs": [
    {
     "name": "stdout",
     "output_type": "stream",
     "text": [
      "6\n"
     ]
    }
   ],
   "source": [
    "import valuer\n",
    "valuer.b()\n",
    "valuer.b()\n",
    "valuer.b()\n",
    "print(valuer.a)"
   ]
  },
  {
   "cell_type": "markdown",
   "id": "24de886d",
   "metadata": {},
   "source": [
    "I saved the provided code in the question as a module named valuer.py\n",
    "\n",
    "then I've imported it into the interpreter. Then execute the function b() 3 times. At last printed the global variable a.\n",
    "\n",
    "functionality of the function b() is, it is stating that, global variable a is going to be used within the b() by the code segment ‘global a’. and also it is calling the function c() with passing global variable ‘a’ as parameter and assigning the value which is returned by the function c() to global variable ‘a’.\n",
    "\n",
    "functionality of function c() is that, it takes parameter and do the addition with value 2 then returns the calculated result. \n",
    "Consider the first execution of function b(). \n",
    "\n",
    "At the beginning, global variable ‘a’ has value 0. During the execution of b(), function c() will be invoked and the value of global variable ‘a’ that is 0 will be passed as parameter into the function c(). So, the value 0 and 2 will be summed so the result 2 will be returned by function c(). After that, within the function b(), the returned value 2 will be assigned to the global variable ‘a’. So now, the current value of ‘a’ is 2. \n",
    "\n",
    "In the second execution of b(), value of ‘a’ that is 2 now, will be passed via c(), then calculation will be 2 + 2. And the result 4 will be assigned to global variable ‘a’. Now the current value of ‘a’ is 4. \n",
    "\n",
    "In the third execution of b(), value of ‘a’ that is 4 now, will be passed via c(), then calculation will be 4 + 2. And the result 6 will be assigned to global variable ‘a’. Now the current value of ‘a’ is 6. \n",
    "\n",
    "After the above steps, when we print the value of global variable ‘a’, it will be 6.\n",
    " "
   ]
  },
  {
   "cell_type": "markdown",
   "id": "318c4049",
   "metadata": {},
   "source": [
    "# Question 2 - Answer"
   ]
  },
  {
   "cell_type": "code",
   "execution_count": 8,
   "id": "3f848507",
   "metadata": {},
   "outputs": [
    {
     "name": "stdout",
     "output_type": "stream",
     "text": [
      "File idterm.py not found.\n"
     ]
    }
   ],
   "source": [
    "def fileLength(fileName):\n",
    "    try:\n",
    "        content = open(fileName).read()\n",
    "        length = len(content)\n",
    "        print(\"Length of file {filename} is {length}\".format(filename = fileName, length = length))\n",
    "    except FileNotFoundError:\n",
    "        print(\"File {} not found.\".format(fileName))\n",
    "        \n",
    "fileLength(\"idterm.py\")"
   ]
  },
  {
   "cell_type": "markdown",
   "id": "9a87af20",
   "metadata": {},
   "source": [
    "# Question 3 - Answer"
   ]
  },
  {
   "cell_type": "code",
   "execution_count": 24,
   "id": "8762271b",
   "metadata": {},
   "outputs": [
    {
     "name": "stdout",
     "output_type": "stream",
     "text": [
      "['doll', 'firetruck', 'kitten']\n"
     ]
    }
   ],
   "source": [
    "class Marsupial:\n",
    "    def __init__(self):\n",
    "        self.pouch = []\n",
    "    def put_in_pouch(self,pouchData):\n",
    "        self.pouch.append(pouchData)\n",
    "    def pouch_contents(self):\n",
    "        print(self.pouch)\n",
    "\n",
    "m = Marsupial()\n",
    "\n",
    "m.put_in_pouch('doll')\n",
    "m.put_in_pouch('firetruck')\n",
    "m.put_in_pouch('kitten')\n",
    "m.pouch_contents()"
   ]
  },
  {
   "cell_type": "code",
   "execution_count": 25,
   "id": "d454bfd8",
   "metadata": {},
   "outputs": [
    {
     "name": "stdout",
     "output_type": "stream",
     "text": [
      "I am a Kangaroo located at coordinates (0,0)\n",
      "['doll', 'firetruck', 'kitten']\n",
      "I am a Kangaroo located at coordinates (3,0)\n"
     ]
    }
   ],
   "source": [
    "class Kangaroo(Marsupial):\n",
    "    #cordinateX = 0\n",
    "    #cordinateY = 0\n",
    "    def __init__(self, x, y):\n",
    "        super().__init__()\n",
    "        self.cordinateX = x\n",
    "        self.cordinateY = y \n",
    "        \n",
    "    def jump(self, x, y):\n",
    "        self.cordinateX += x\n",
    "        self.cordinateY += y\n",
    "        \n",
    "    def __str__(self):\n",
    "        return f\"I am a Kangaroo located at coordinates ({self.cordinateX},{self.cordinateY})\"\n",
    "        \n",
    "k = Kangaroo(0,0)\n",
    "print(k)\n",
    "k.put_in_pouch('doll')\n",
    "k.put_in_pouch('firetruck')\n",
    "k.put_in_pouch('kitten')\n",
    "k.pouch_contents()\n",
    "\n",
    "k.jump(1,0)\n",
    "k.jump(1,0)\n",
    "k.jump(1,0)\n",
    "print(k)"
   ]
  },
  {
   "cell_type": "markdown",
   "id": "7727defb",
   "metadata": {},
   "source": [
    "# Question 4 - Answer"
   ]
  },
  {
   "cell_type": "code",
   "execution_count": 3,
   "id": "b905722d",
   "metadata": {},
   "outputs": [
    {
     "name": "stdout",
     "output_type": "stream",
     "text": [
      "10\n",
      "5\n",
      "16\n",
      "8\n",
      "4\n",
      "2\n",
      "1\n"
     ]
    }
   ],
   "source": [
    "def collatz(n):\n",
    "    if n == 1:\n",
    "        print(n)\n",
    "    elif n % 2 == 0:\n",
    "        print(n)\n",
    "        #val = n * 3\n",
    "        #print(val)\n",
    "        collatz(n//2)\n",
    "    else:\n",
    "        print(n)\n",
    "        collatz((n * 3) + 1)\n",
    "collatz(10)"
   ]
  },
  {
   "cell_type": "markdown",
   "id": "2bf41fcd",
   "metadata": {},
   "source": [
    "# Question 5 - Answer "
   ]
  },
  {
   "cell_type": "code",
   "execution_count": null,
   "id": "45828114",
   "metadata": {
    "scrolled": false
   },
   "outputs": [
    {
     "name": "stdout",
     "output_type": "stream",
     "text": [
      "Enter an non-negative number to convert to binary : 0\n",
      "0\n",
      "Enter an non-negative number to convert to binary : 1\n",
      "1\n",
      "Enter an non-negative number to convert to binary : 3\n",
      "11\n",
      "Enter an non-negative number to convert to binary : 9\n",
      "1001\n"
     ]
    }
   ],
   "source": [
    "def binary():\n",
    "    try:\n",
    "        userinput = int(input('Enter an non-negative number to convert to binary : '))\n",
    "        if userinput >= 0:\n",
    "            print(f'{userinput:0b}')\n",
    "            binary()\n",
    "        else:\n",
    "            print('You entered negative number. Please try again with non-negative number!')\n",
    "            binary()\n",
    "    except:\n",
    "        print(\"Something went wrong. Try again!\")\n",
    "binary()"
   ]
  },
  {
   "cell_type": "markdown",
   "id": "d724dba5",
   "metadata": {},
   "source": [
    "# Question 6 - Answer"
   ]
  },
  {
   "cell_type": "code",
   "execution_count": 22,
   "id": "d9848f6c",
   "metadata": {},
   "outputs": [
    {
     "name": "stdout",
     "output_type": "stream",
     "text": [
      "W3C Mission\n",
      "\tPrinciples\n"
     ]
    }
   ],
   "source": [
    "from html.parser import HTMLParser\n",
    "\n",
    "class HeadingParser(HTMLParser):\n",
    "    isHeadingH1 = False\n",
    "    isHeadingH2 = False\n",
    "    indentedSymbol = '\\t'\n",
    "    indentLevel = 0 #indentaion 0 by default\n",
    "    def handle_starttag(self, tag, attrs):\n",
    "        if tag == \"h1\":\n",
    "            self.isHeadingH1 = True\n",
    "        elif tag == \"h2\":\n",
    "            self.isHeadingH2 = True\n",
    "    def handle_data(self, data):\n",
    "        if self.isHeadingH1:\n",
    "            print(self.indentedSymbol*self.indentLevel + data)# printing h1 heading with indentaion 0 \n",
    "        if self.isHeadingH2:\n",
    "            self.indentLevel = 1 #setting indentation level to 1\n",
    "            print(self.indentedSymbol*self.indentLevel + data)# printing h2 heading with indentaion 1\n",
    "    def handle_endtag(self, tag):\n",
    "        if tag ==\"h1\":\n",
    "            self.isHeadingH1 = False\n",
    "        elif tag == \"h2\":\n",
    "            self.isHeadingH2 = False\n",
    "\n",
    "hp = HeadingParser()\n",
    "file = open('w3c.html')\n",
    "html = file.read()\n",
    "file.close()\n",
    "hp.feed(html)"
   ]
  },
  {
   "cell_type": "markdown",
   "id": "d46201d9",
   "metadata": {},
   "source": [
    "# Question 7 - Answer"
   ]
  },
  {
   "cell_type": "code",
   "execution_count": 5,
   "id": "11a70ea4",
   "metadata": {},
   "outputs": [
    {
     "name": "stdout",
     "output_type": "stream",
     "text": [
      "http://example.webscraping.com///signup?ref_cta=Sign+up&ref_loc=header+logged+out&ref_page=%2F%3Cuser-name%3E%2F%3Crepo-name%3E&source=header-repo\n",
      "http://example.webscraping.com///signup?ref_cta=Sign+up&ref_loc=header+logged+out&ref_page=%2F%3Cuser-name%3E%2F%3Crepo-name%3E&source=header-repo/features/actions\n",
      "http://example.webscraping.com///signup?ref_cta=Sign+up&ref_loc=header+logged+out&ref_page=%2F%3Cuser-name%3E%2F%3Crepo-name%3E&source=header-repo/features/actions/features/packages\n",
      "http://example.webscraping.com///signup?ref_cta=Sign+up&ref_loc=header+logged+out&ref_page=%2F%3Cuser-name%3E%2F%3Crepo-name%3E&source=header-repo/features/actions/features/packages/features/security\n",
      "http://example.webscraping.com///signup?ref_cta=Sign+up&ref_loc=header+logged+out&ref_page=%2F%3Cuser-name%3E%2F%3Crepo-name%3E&source=header-repo/features/actions/features/packages/features/security/features/codespaces\n",
      "http://example.webscraping.com///signup?ref_cta=Sign+up&ref_loc=header+logged+out&ref_page=%2F%3Cuser-name%3E%2F%3Crepo-name%3E&source=header-repo/features/actions/features/packages/features/security/features/codespaces/features/copilot\n",
      "http://example.webscraping.com///signup?ref_cta=Sign+up&ref_loc=header+logged+out&ref_page=%2F%3Cuser-name%3E%2F%3Crepo-name%3E&source=header-repo/features/actions/features/packages/features/security/features/codespaces/features/copilot/features/code-review\n",
      "http://example.webscraping.com///signup?ref_cta=Sign+up&ref_loc=header+logged+out&ref_page=%2F%3Cuser-name%3E%2F%3Crepo-name%3E&source=header-repo/features/actions/features/packages/features/security/features/codespaces/features/copilot/features/code-review/features/issues\n",
      "http://example.webscraping.com///signup?ref_cta=Sign+up&ref_loc=header+logged+out&ref_page=%2F%3Cuser-name%3E%2F%3Crepo-name%3E&source=header-repo/features/actions/features/packages/features/security/features/codespaces/features/copilot/features/code-review/features/issues/features/discussions\n",
      "http://example.webscraping.com///signup?ref_cta=Sign+up&ref_loc=header+logged+out&ref_page=%2F%3Cuser-name%3E%2F%3Crepo-name%3E&source=header-repo/features/actions/features/packages/features/security/features/codespaces/features/copilot/features/code-review/features/issues/features/discussions/features\n",
      "http://example.webscraping.com///signup?ref_cta=Sign+up&ref_loc=header+logged+out&ref_page=%2F%3Cuser-name%3E%2F%3Crepo-name%3E&source=header-repo/features/actions/features/packages/features/security/features/codespaces/features/copilot/features/code-review/features/issues/features/discussions/features/enterprise\n",
      "http://example.webscraping.com///signup?ref_cta=Sign+up&ref_loc=header+logged+out&ref_page=%2F%3Cuser-name%3E%2F%3Crepo-name%3E&source=header-repo/features/actions/features/packages/features/security/features/codespaces/features/copilot/features/code-review/features/issues/features/discussions/features/enterprise/team\n",
      "http://example.webscraping.com///signup?ref_cta=Sign+up&ref_loc=header+logged+out&ref_page=%2F%3Cuser-name%3E%2F%3Crepo-name%3E&source=header-repo/features/actions/features/packages/features/security/features/codespaces/features/copilot/features/code-review/features/issues/features/discussions/features/enterprise/team/pricing#compare-features\n",
      "http://example.webscraping.com///signup?ref_cta=Sign+up&ref_loc=header+logged+out&ref_page=%2F%3Cuser-name%3E%2F%3Crepo-name%3E&source=header-repo/features/actions/features/packages/features/security/features/codespaces/features/copilot/features/code-review/features/issues/features/discussions/features/enterprise/team/pricing#compare-features/customer-stories\n",
      "http://example.webscraping.com///signup?ref_cta=Sign+up&ref_loc=header+logged+out&ref_page=%2F%3Cuser-name%3E%2F%3Crepo-name%3E&source=header-repo/features/actions/features/packages/features/security/features/codespaces/features/copilot/features/code-review/features/issues/features/discussions/features/enterprise/team/pricing#compare-features/customer-stories/sponsors\n",
      "http://example.webscraping.com///signup?ref_cta=Sign+up&ref_loc=header+logged+out&ref_page=%2F%3Cuser-name%3E%2F%3Crepo-name%3E&source=header-repo/features/actions/features/packages/features/security/features/codespaces/features/copilot/features/code-review/features/issues/features/discussions/features/enterprise/team/pricing#compare-features/customer-stories/sponsors/readme\n",
      "http://example.webscraping.com///signup?ref_cta=Sign+up&ref_loc=header+logged+out&ref_page=%2F%3Cuser-name%3E%2F%3Crepo-name%3E&source=header-repo/features/actions/features/packages/features/security/features/codespaces/features/copilot/features/code-review/features/issues/features/discussions/features/enterprise/team/pricing#compare-features/customer-stories/sponsors/readme/topics\n",
      "http://example.webscraping.com///signup?ref_cta=Sign+up&ref_loc=header+logged+out&ref_page=%2F%3Cuser-name%3E%2F%3Crepo-name%3E&source=header-repo/features/actions/features/packages/features/security/features/codespaces/features/copilot/features/code-review/features/issues/features/discussions/features/enterprise/team/pricing#compare-features/customer-stories/sponsors/readme/topics/trending\n",
      "http://example.webscraping.com///signup?ref_cta=Sign+up&ref_loc=header+logged+out&ref_page=%2F%3Cuser-name%3E%2F%3Crepo-name%3E&source=header-repo/features/actions/features/packages/features/security/features/codespaces/features/copilot/features/code-review/features/issues/features/discussions/features/enterprise/team/pricing#compare-features/customer-stories/sponsors/readme/topics/trending/collections\n",
      "http://example.webscraping.com///signup?ref_cta=Sign+up&ref_loc=header+logged+out&ref_page=%2F%3Cuser-name%3E%2F%3Crepo-name%3E&source=header-repo/features/actions/features/packages/features/security/features/codespaces/features/copilot/features/code-review/features/issues/features/discussions/features/enterprise/team/pricing#compare-features/customer-stories/sponsors/readme/topics/trending/collections/pricing\n",
      "http://example.webscraping.com///signup?ref_cta=Sign+up&ref_loc=header+logged+out&ref_page=%2F%3Cuser-name%3E%2F%3Crepo-name%3E&source=header-repo/features/actions/features/packages/features/security/features/codespaces/features/copilot/features/code-review/features/issues/features/discussions/features/enterprise/team/pricing#compare-features/customer-stories/sponsors/readme/topics/trending/collections/pricing/login?return_to=https%3A%2F%2Fgithub.com%2Frichardpenman%2Fwswp_places\n",
      "http://example.webscraping.com///signup?ref_cta=Sign+up&ref_loc=header+logged+out&ref_page=%2F%3Cuser-name%3E%2F%3Crepo-name%3E&source=header-repo/features/actions/features/packages/features/security/features/codespaces/features/copilot/features/code-review/features/issues/features/discussions/features/enterprise/team/pricing#compare-features/customer-stories/sponsors/readme/topics/trending/collections/pricing/login?return_to=https%3A%2F%2Fgithub.com%2Frichardpenman%2Fwswp_places/signup?ref_cta=Sign+up&ref_loc=header+logged+out&ref_page=%2F%3Cuser-name%3E%2F%3Crepo-name%3E&source=header-repo&source_repo=richardpenman%2Fwswp_places\n",
      "http://example.webscraping.com///signup?ref_cta=Sign+up&ref_loc=header+logged+out&ref_page=%2F%3Cuser-name%3E%2F%3Crepo-name%3E&source=header-repo/features/actions/features/packages/features/security/features/codespaces/features/copilot/features/code-review/features/issues/features/discussions/features/enterprise/team/pricing#compare-features/customer-stories/sponsors/readme/topics/trending/collections/pricing/login?return_to=https%3A%2F%2Fgithub.com%2Frichardpenman%2Fwswp_places/signup?ref_cta=Sign+up&ref_loc=header+logged+out&ref_page=%2F%3Cuser-name%3E%2F%3Crepo-name%3E&source=header-repo&source_repo=richardpenman%2Fwswp_places/richardpenman\n",
      "http://example.webscraping.com///signup?ref_cta=Sign+up&ref_loc=header+logged+out&ref_page=%2F%3Cuser-name%3E%2F%3Crepo-name%3E&source=header-repo/features/actions/features/packages/features/security/features/codespaces/features/copilot/features/code-review/features/issues/features/discussions/features/enterprise/team/pricing#compare-features/customer-stories/sponsors/readme/topics/trending/collections/pricing/login?return_to=https%3A%2F%2Fgithub.com%2Frichardpenman%2Fwswp_places/signup?ref_cta=Sign+up&ref_loc=header+logged+out&ref_page=%2F%3Cuser-name%3E%2F%3Crepo-name%3E&source=header-repo&source_repo=richardpenman%2Fwswp_places/richardpenman/richardpenman/wswp_places\n"
     ]
    },
    {
     "name": "stdout",
     "output_type": "stream",
     "text": [
      "http://example.webscraping.com///signup?ref_cta=Sign+up&ref_loc=header+logged+out&ref_page=%2F%3Cuser-name%3E%2F%3Crepo-name%3E&source=header-repo/features/actions/features/packages/features/security/features/codespaces/features/copilot/features/code-review/features/issues/features/discussions/features/enterprise/team/pricing#compare-features/customer-stories/sponsors/readme/topics/trending/collections/pricing/login?return_to=https%3A%2F%2Fgithub.com%2Frichardpenman%2Fwswp_places/signup?ref_cta=Sign+up&ref_loc=header+logged+out&ref_page=%2F%3Cuser-name%3E%2F%3Crepo-name%3E&source=header-repo&source_repo=richardpenman%2Fwswp_places/richardpenman/richardpenman/wswp_places/login?return_to=%2Frichardpenman%2Fwswp_places\n",
      "http://example.webscraping.com///signup?ref_cta=Sign+up&ref_loc=header+logged+out&ref_page=%2F%3Cuser-name%3E%2F%3Crepo-name%3E&source=header-repo/features/actions/features/packages/features/security/features/codespaces/features/copilot/features/code-review/features/issues/features/discussions/features/enterprise/team/pricing#compare-features/customer-stories/sponsors/readme/topics/trending/collections/pricing/login?return_to=https%3A%2F%2Fgithub.com%2Frichardpenman%2Fwswp_places/signup?ref_cta=Sign+up&ref_loc=header+logged+out&ref_page=%2F%3Cuser-name%3E%2F%3Crepo-name%3E&source=header-repo&source_repo=richardpenman%2Fwswp_places/richardpenman/richardpenman/wswp_places/login?return_to=%2Frichardpenman%2Fwswp_places/login?return_to=%2Frichardpenman%2Fwswp_places\n",
      "http://example.webscraping.com///signup?ref_cta=Sign+up&ref_loc=header+logged+out&ref_page=%2F%3Cuser-name%3E%2F%3Crepo-name%3E&source=header-repo/features/actions/features/packages/features/security/features/codespaces/features/copilot/features/code-review/features/issues/features/discussions/features/enterprise/team/pricing#compare-features/customer-stories/sponsors/readme/topics/trending/collections/pricing/login?return_to=https%3A%2F%2Fgithub.com%2Frichardpenman%2Fwswp_places/signup?ref_cta=Sign+up&ref_loc=header+logged+out&ref_page=%2F%3Cuser-name%3E%2F%3Crepo-name%3E&source=header-repo&source_repo=richardpenman%2Fwswp_places/richardpenman/richardpenman/wswp_places/login?return_to=%2Frichardpenman%2Fwswp_places/login?return_to=%2Frichardpenman%2Fwswp_places/login?return_to=%2Frichardpenman%2Fwswp_places\n",
      "http://example.webscraping.com///signup?ref_cta=Sign+up&ref_loc=header+logged+out&ref_page=%2F%3Cuser-name%3E%2F%3Crepo-name%3E&source=header-repo/features/actions/features/packages/features/security/features/codespaces/features/copilot/features/code-review/features/issues/features/discussions/features/enterprise/team/pricing#compare-features/customer-stories/sponsors/readme/topics/trending/collections/pricing/login?return_to=https%3A%2F%2Fgithub.com%2Frichardpenman%2Fwswp_places/signup?ref_cta=Sign+up&ref_loc=header+logged+out&ref_page=%2F%3Cuser-name%3E%2F%3Crepo-name%3E&source=header-repo&source_repo=richardpenman%2Fwswp_places/richardpenman/richardpenman/wswp_places/login?return_to=%2Frichardpenman%2Fwswp_places/login?return_to=%2Frichardpenman%2Fwswp_places/login?return_to=%2Frichardpenman%2Fwswp_places/richardpenman/wswp_places/stargazers\n",
      "http://example.webscraping.com///signup?ref_cta=Sign+up&ref_loc=header+logged+out&ref_page=%2F%3Cuser-name%3E%2F%3Crepo-name%3E&source=header-repo/features/actions/features/packages/features/security/features/codespaces/features/copilot/features/code-review/features/issues/features/discussions/features/enterprise/team/pricing#compare-features/customer-stories/sponsors/readme/topics/trending/collections/pricing/login?return_to=https%3A%2F%2Fgithub.com%2Frichardpenman%2Fwswp_places/signup?ref_cta=Sign+up&ref_loc=header+logged+out&ref_page=%2F%3Cuser-name%3E%2F%3Crepo-name%3E&source=header-repo&source_repo=richardpenman%2Fwswp_places/richardpenman/richardpenman/wswp_places/login?return_to=%2Frichardpenman%2Fwswp_places/login?return_to=%2Frichardpenman%2Fwswp_places/login?return_to=%2Frichardpenman%2Fwswp_places/richardpenman/wswp_places/stargazers/richardpenman/wswp_places/network/members\n",
      "http://example.webscraping.com///signup?ref_cta=Sign+up&ref_loc=header+logged+out&ref_page=%2F%3Cuser-name%3E%2F%3Crepo-name%3E&source=header-repo/features/actions/features/packages/features/security/features/codespaces/features/copilot/features/code-review/features/issues/features/discussions/features/enterprise/team/pricing#compare-features/customer-stories/sponsors/readme/topics/trending/collections/pricing/login?return_to=https%3A%2F%2Fgithub.com%2Frichardpenman%2Fwswp_places/signup?ref_cta=Sign+up&ref_loc=header+logged+out&ref_page=%2F%3Cuser-name%3E%2F%3Crepo-name%3E&source=header-repo&source_repo=richardpenman%2Fwswp_places/richardpenman/richardpenman/wswp_places/login?return_to=%2Frichardpenman%2Fwswp_places/login?return_to=%2Frichardpenman%2Fwswp_places/login?return_to=%2Frichardpenman%2Fwswp_places/richardpenman/wswp_places/stargazers/richardpenman/wswp_places/network/members/login?return_to=%2Frichardpenman%2Fwswp_places\n",
      "http://example.webscraping.com///signup?ref_cta=Sign+up&ref_loc=header+logged+out&ref_page=%2F%3Cuser-name%3E%2F%3Crepo-name%3E&source=header-repo/features/actions/features/packages/features/security/features/codespaces/features/copilot/features/code-review/features/issues/features/discussions/features/enterprise/team/pricing#compare-features/customer-stories/sponsors/readme/topics/trending/collections/pricing/login?return_to=https%3A%2F%2Fgithub.com%2Frichardpenman%2Fwswp_places/signup?ref_cta=Sign+up&ref_loc=header+logged+out&ref_page=%2F%3Cuser-name%3E%2F%3Crepo-name%3E&source=header-repo&source_repo=richardpenman%2Fwswp_places/richardpenman/richardpenman/wswp_places/login?return_to=%2Frichardpenman%2Fwswp_places/login?return_to=%2Frichardpenman%2Fwswp_places/login?return_to=%2Frichardpenman%2Fwswp_places/richardpenman/wswp_places/stargazers/richardpenman/wswp_places/network/members/login?return_to=%2Frichardpenman%2Fwswp_places/login?return_to=%2Frichardpenman%2Fwswp_places\n",
      "http://example.webscraping.com///signup?ref_cta=Sign+up&ref_loc=header+logged+out&ref_page=%2F%3Cuser-name%3E%2F%3Crepo-name%3E&source=header-repo/features/actions/features/packages/features/security/features/codespaces/features/copilot/features/code-review/features/issues/features/discussions/features/enterprise/team/pricing#compare-features/customer-stories/sponsors/readme/topics/trending/collections/pricing/login?return_to=https%3A%2F%2Fgithub.com%2Frichardpenman%2Fwswp_places/signup?ref_cta=Sign+up&ref_loc=header+logged+out&ref_page=%2F%3Cuser-name%3E%2F%3Crepo-name%3E&source=header-repo&source_repo=richardpenman%2Fwswp_places/richardpenman/richardpenman/wswp_places/login?return_to=%2Frichardpenman%2Fwswp_places/login?return_to=%2Frichardpenman%2Fwswp_places/login?return_to=%2Frichardpenman%2Fwswp_places/richardpenman/wswp_places/stargazers/richardpenman/wswp_places/network/members/login?return_to=%2Frichardpenman%2Fwswp_places/login?return_to=%2Frichardpenman%2Fwswp_places/richardpenman/wswp_places\n"
     ]
    },
    {
     "ename": "KeyboardInterrupt",
     "evalue": "",
     "output_type": "error",
     "traceback": [
      "\u001b[1;31m---------------------------------------------------------------------------\u001b[0m",
      "\u001b[1;31mKeyboardInterrupt\u001b[0m                         Traceback (most recent call last)",
      "Input \u001b[1;32mIn [5]\u001b[0m, in \u001b[0;36m<cell line: 25>\u001b[1;34m()\u001b[0m\n\u001b[0;32m     28\u001b[0m site\u001b[38;5;241m=\u001b[39m\u001b[38;5;124m\"\u001b[39m\u001b[38;5;124mhttp://example.webscraping.com//\u001b[39m\u001b[38;5;124m\"\u001b[39m\n\u001b[0;32m     30\u001b[0m \u001b[38;5;66;03m# calling function\u001b[39;00m\n\u001b[1;32m---> 31\u001b[0m \u001b[43mscrape\u001b[49m\u001b[43m(\u001b[49m\u001b[43msite\u001b[49m\u001b[43m)\u001b[49m\n",
      "Input \u001b[1;32mIn [5]\u001b[0m, in \u001b[0;36mscrape\u001b[1;34m(site)\u001b[0m\n\u001b[0;32m     20\u001b[0m \u001b[38;5;28mprint\u001b[39m(site)\n\u001b[0;32m     21\u001b[0m \u001b[38;5;66;03m# calling it self\u001b[39;00m\n\u001b[1;32m---> 22\u001b[0m \u001b[43mscrape\u001b[49m\u001b[43m(\u001b[49m\u001b[43msite\u001b[49m\u001b[43m)\u001b[49m\n",
      "Input \u001b[1;32mIn [5]\u001b[0m, in \u001b[0;36mscrape\u001b[1;34m(site)\u001b[0m\n\u001b[0;32m      8\u001b[0m \u001b[38;5;28;01mdef\u001b[39;00m \u001b[38;5;21mscrape\u001b[39m(site):\n\u001b[0;32m      9\u001b[0m     \u001b[38;5;66;03m# getting the request from url\u001b[39;00m\n\u001b[1;32m---> 10\u001b[0m     r \u001b[38;5;241m=\u001b[39m \u001b[43mrequests\u001b[49m\u001b[38;5;241;43m.\u001b[39;49m\u001b[43mget\u001b[49m\u001b[43m(\u001b[49m\u001b[43msite\u001b[49m\u001b[43m)\u001b[49m\n\u001b[0;32m     11\u001b[0m     \u001b[38;5;66;03m# converting the text\u001b[39;00m\n\u001b[0;32m     12\u001b[0m     s \u001b[38;5;241m=\u001b[39m BeautifulSoup(r\u001b[38;5;241m.\u001b[39mtext,\u001b[38;5;124m\"\u001b[39m\u001b[38;5;124mhtml.parser\u001b[39m\u001b[38;5;124m\"\u001b[39m)\n",
      "File \u001b[1;32m~\\anaconda3\\lib\\site-packages\\requests\\api.py:75\u001b[0m, in \u001b[0;36mget\u001b[1;34m(url, params, **kwargs)\u001b[0m\n\u001b[0;32m     64\u001b[0m \u001b[38;5;28;01mdef\u001b[39;00m \u001b[38;5;21mget\u001b[39m(url, params\u001b[38;5;241m=\u001b[39m\u001b[38;5;28;01mNone\u001b[39;00m, \u001b[38;5;241m*\u001b[39m\u001b[38;5;241m*\u001b[39mkwargs):\n\u001b[0;32m     65\u001b[0m     \u001b[38;5;124mr\u001b[39m\u001b[38;5;124;03m\"\"\"Sends a GET request.\u001b[39;00m\n\u001b[0;32m     66\u001b[0m \n\u001b[0;32m     67\u001b[0m \u001b[38;5;124;03m    :param url: URL for the new :class:`Request` object.\u001b[39;00m\n\u001b[1;32m   (...)\u001b[0m\n\u001b[0;32m     72\u001b[0m \u001b[38;5;124;03m    :rtype: requests.Response\u001b[39;00m\n\u001b[0;32m     73\u001b[0m \u001b[38;5;124;03m    \"\"\"\u001b[39;00m\n\u001b[1;32m---> 75\u001b[0m     \u001b[38;5;28;01mreturn\u001b[39;00m request(\u001b[38;5;124m'\u001b[39m\u001b[38;5;124mget\u001b[39m\u001b[38;5;124m'\u001b[39m, url, params\u001b[38;5;241m=\u001b[39mparams, \u001b[38;5;241m*\u001b[39m\u001b[38;5;241m*\u001b[39mkwargs)\n",
      "File \u001b[1;32m~\\anaconda3\\lib\\site-packages\\requests\\api.py:61\u001b[0m, in \u001b[0;36mrequest\u001b[1;34m(method, url, **kwargs)\u001b[0m\n\u001b[0;32m     57\u001b[0m \u001b[38;5;66;03m# By using the 'with' statement we are sure the session is closed, thus we\u001b[39;00m\n\u001b[0;32m     58\u001b[0m \u001b[38;5;66;03m# avoid leaving sockets open which can trigger a ResourceWarning in some\u001b[39;00m\n\u001b[0;32m     59\u001b[0m \u001b[38;5;66;03m# cases, and look like a memory leak in others.\u001b[39;00m\n\u001b[0;32m     60\u001b[0m \u001b[38;5;28;01mwith\u001b[39;00m sessions\u001b[38;5;241m.\u001b[39mSession() \u001b[38;5;28;01mas\u001b[39;00m session:\n\u001b[1;32m---> 61\u001b[0m     \u001b[38;5;28;01mreturn\u001b[39;00m session\u001b[38;5;241m.\u001b[39mrequest(method\u001b[38;5;241m=\u001b[39mmethod, url\u001b[38;5;241m=\u001b[39murl, \u001b[38;5;241m*\u001b[39m\u001b[38;5;241m*\u001b[39mkwargs)\n",
      "File \u001b[1;32m~\\anaconda3\\lib\\site-packages\\requests\\sessions.py:529\u001b[0m, in \u001b[0;36mSession.request\u001b[1;34m(self, method, url, params, data, headers, cookies, files, auth, timeout, allow_redirects, proxies, hooks, stream, verify, cert, json)\u001b[0m\n\u001b[0;32m    524\u001b[0m send_kwargs \u001b[38;5;241m=\u001b[39m {\n\u001b[0;32m    525\u001b[0m     \u001b[38;5;124m'\u001b[39m\u001b[38;5;124mtimeout\u001b[39m\u001b[38;5;124m'\u001b[39m: timeout,\n\u001b[0;32m    526\u001b[0m     \u001b[38;5;124m'\u001b[39m\u001b[38;5;124mallow_redirects\u001b[39m\u001b[38;5;124m'\u001b[39m: allow_redirects,\n\u001b[0;32m    527\u001b[0m }\n\u001b[0;32m    528\u001b[0m send_kwargs\u001b[38;5;241m.\u001b[39mupdate(settings)\n\u001b[1;32m--> 529\u001b[0m resp \u001b[38;5;241m=\u001b[39m \u001b[38;5;28mself\u001b[39m\u001b[38;5;241m.\u001b[39msend(prep, \u001b[38;5;241m*\u001b[39m\u001b[38;5;241m*\u001b[39msend_kwargs)\n\u001b[0;32m    531\u001b[0m \u001b[38;5;28;01mreturn\u001b[39;00m resp\n",
      "File \u001b[1;32m~\\anaconda3\\lib\\site-packages\\requests\\sessions.py:645\u001b[0m, in \u001b[0;36mSession.send\u001b[1;34m(self, request, **kwargs)\u001b[0m\n\u001b[0;32m    642\u001b[0m start \u001b[38;5;241m=\u001b[39m preferred_clock()\n\u001b[0;32m    644\u001b[0m \u001b[38;5;66;03m# Send the request\u001b[39;00m\n\u001b[1;32m--> 645\u001b[0m r \u001b[38;5;241m=\u001b[39m adapter\u001b[38;5;241m.\u001b[39msend(request, \u001b[38;5;241m*\u001b[39m\u001b[38;5;241m*\u001b[39mkwargs)\n\u001b[0;32m    647\u001b[0m \u001b[38;5;66;03m# Total elapsed time of the request (approximately)\u001b[39;00m\n\u001b[0;32m    648\u001b[0m elapsed \u001b[38;5;241m=\u001b[39m preferred_clock() \u001b[38;5;241m-\u001b[39m start\n",
      "File \u001b[1;32m~\\anaconda3\\lib\\site-packages\\requests\\adapters.py:440\u001b[0m, in \u001b[0;36mHTTPAdapter.send\u001b[1;34m(self, request, stream, timeout, verify, cert, proxies)\u001b[0m\n\u001b[0;32m    438\u001b[0m \u001b[38;5;28;01mtry\u001b[39;00m:\n\u001b[0;32m    439\u001b[0m     \u001b[38;5;28;01mif\u001b[39;00m \u001b[38;5;129;01mnot\u001b[39;00m chunked:\n\u001b[1;32m--> 440\u001b[0m         resp \u001b[38;5;241m=\u001b[39m \u001b[43mconn\u001b[49m\u001b[38;5;241;43m.\u001b[39;49m\u001b[43murlopen\u001b[49m\u001b[43m(\u001b[49m\n\u001b[0;32m    441\u001b[0m \u001b[43m            \u001b[49m\u001b[43mmethod\u001b[49m\u001b[38;5;241;43m=\u001b[39;49m\u001b[43mrequest\u001b[49m\u001b[38;5;241;43m.\u001b[39;49m\u001b[43mmethod\u001b[49m\u001b[43m,\u001b[49m\n\u001b[0;32m    442\u001b[0m \u001b[43m            \u001b[49m\u001b[43murl\u001b[49m\u001b[38;5;241;43m=\u001b[39;49m\u001b[43murl\u001b[49m\u001b[43m,\u001b[49m\n\u001b[0;32m    443\u001b[0m \u001b[43m            \u001b[49m\u001b[43mbody\u001b[49m\u001b[38;5;241;43m=\u001b[39;49m\u001b[43mrequest\u001b[49m\u001b[38;5;241;43m.\u001b[39;49m\u001b[43mbody\u001b[49m\u001b[43m,\u001b[49m\n\u001b[0;32m    444\u001b[0m \u001b[43m            \u001b[49m\u001b[43mheaders\u001b[49m\u001b[38;5;241;43m=\u001b[39;49m\u001b[43mrequest\u001b[49m\u001b[38;5;241;43m.\u001b[39;49m\u001b[43mheaders\u001b[49m\u001b[43m,\u001b[49m\n\u001b[0;32m    445\u001b[0m \u001b[43m            \u001b[49m\u001b[43mredirect\u001b[49m\u001b[38;5;241;43m=\u001b[39;49m\u001b[38;5;28;43;01mFalse\u001b[39;49;00m\u001b[43m,\u001b[49m\n\u001b[0;32m    446\u001b[0m \u001b[43m            \u001b[49m\u001b[43massert_same_host\u001b[49m\u001b[38;5;241;43m=\u001b[39;49m\u001b[38;5;28;43;01mFalse\u001b[39;49;00m\u001b[43m,\u001b[49m\n\u001b[0;32m    447\u001b[0m \u001b[43m            \u001b[49m\u001b[43mpreload_content\u001b[49m\u001b[38;5;241;43m=\u001b[39;49m\u001b[38;5;28;43;01mFalse\u001b[39;49;00m\u001b[43m,\u001b[49m\n\u001b[0;32m    448\u001b[0m \u001b[43m            \u001b[49m\u001b[43mdecode_content\u001b[49m\u001b[38;5;241;43m=\u001b[39;49m\u001b[38;5;28;43;01mFalse\u001b[39;49;00m\u001b[43m,\u001b[49m\n\u001b[0;32m    449\u001b[0m \u001b[43m            \u001b[49m\u001b[43mretries\u001b[49m\u001b[38;5;241;43m=\u001b[39;49m\u001b[38;5;28;43mself\u001b[39;49m\u001b[38;5;241;43m.\u001b[39;49m\u001b[43mmax_retries\u001b[49m\u001b[43m,\u001b[49m\n\u001b[0;32m    450\u001b[0m \u001b[43m            \u001b[49m\u001b[43mtimeout\u001b[49m\u001b[38;5;241;43m=\u001b[39;49m\u001b[43mtimeout\u001b[49m\n\u001b[0;32m    451\u001b[0m \u001b[43m        \u001b[49m\u001b[43m)\u001b[49m\n\u001b[0;32m    453\u001b[0m     \u001b[38;5;66;03m# Send the request.\u001b[39;00m\n\u001b[0;32m    454\u001b[0m     \u001b[38;5;28;01melse\u001b[39;00m:\n\u001b[0;32m    455\u001b[0m         \u001b[38;5;28;01mif\u001b[39;00m \u001b[38;5;28mhasattr\u001b[39m(conn, \u001b[38;5;124m'\u001b[39m\u001b[38;5;124mproxy_pool\u001b[39m\u001b[38;5;124m'\u001b[39m):\n",
      "File \u001b[1;32m~\\anaconda3\\lib\\site-packages\\urllib3\\connectionpool.py:703\u001b[0m, in \u001b[0;36mHTTPConnectionPool.urlopen\u001b[1;34m(self, method, url, body, headers, retries, redirect, assert_same_host, timeout, pool_timeout, release_conn, chunked, body_pos, **response_kw)\u001b[0m\n\u001b[0;32m    700\u001b[0m     \u001b[38;5;28mself\u001b[39m\u001b[38;5;241m.\u001b[39m_prepare_proxy(conn)\n\u001b[0;32m    702\u001b[0m \u001b[38;5;66;03m# Make the request on the httplib connection object.\u001b[39;00m\n\u001b[1;32m--> 703\u001b[0m httplib_response \u001b[38;5;241m=\u001b[39m \u001b[38;5;28;43mself\u001b[39;49m\u001b[38;5;241;43m.\u001b[39;49m\u001b[43m_make_request\u001b[49m\u001b[43m(\u001b[49m\n\u001b[0;32m    704\u001b[0m \u001b[43m    \u001b[49m\u001b[43mconn\u001b[49m\u001b[43m,\u001b[49m\n\u001b[0;32m    705\u001b[0m \u001b[43m    \u001b[49m\u001b[43mmethod\u001b[49m\u001b[43m,\u001b[49m\n\u001b[0;32m    706\u001b[0m \u001b[43m    \u001b[49m\u001b[43murl\u001b[49m\u001b[43m,\u001b[49m\n\u001b[0;32m    707\u001b[0m \u001b[43m    \u001b[49m\u001b[43mtimeout\u001b[49m\u001b[38;5;241;43m=\u001b[39;49m\u001b[43mtimeout_obj\u001b[49m\u001b[43m,\u001b[49m\n\u001b[0;32m    708\u001b[0m \u001b[43m    \u001b[49m\u001b[43mbody\u001b[49m\u001b[38;5;241;43m=\u001b[39;49m\u001b[43mbody\u001b[49m\u001b[43m,\u001b[49m\n\u001b[0;32m    709\u001b[0m \u001b[43m    \u001b[49m\u001b[43mheaders\u001b[49m\u001b[38;5;241;43m=\u001b[39;49m\u001b[43mheaders\u001b[49m\u001b[43m,\u001b[49m\n\u001b[0;32m    710\u001b[0m \u001b[43m    \u001b[49m\u001b[43mchunked\u001b[49m\u001b[38;5;241;43m=\u001b[39;49m\u001b[43mchunked\u001b[49m\u001b[43m,\u001b[49m\n\u001b[0;32m    711\u001b[0m \u001b[43m\u001b[49m\u001b[43m)\u001b[49m\n\u001b[0;32m    713\u001b[0m \u001b[38;5;66;03m# If we're going to release the connection in ``finally:``, then\u001b[39;00m\n\u001b[0;32m    714\u001b[0m \u001b[38;5;66;03m# the response doesn't need to know about the connection. Otherwise\u001b[39;00m\n\u001b[0;32m    715\u001b[0m \u001b[38;5;66;03m# it will also try to release it and we'll have a double-release\u001b[39;00m\n\u001b[0;32m    716\u001b[0m \u001b[38;5;66;03m# mess.\u001b[39;00m\n\u001b[0;32m    717\u001b[0m response_conn \u001b[38;5;241m=\u001b[39m conn \u001b[38;5;28;01mif\u001b[39;00m \u001b[38;5;129;01mnot\u001b[39;00m release_conn \u001b[38;5;28;01melse\u001b[39;00m \u001b[38;5;28;01mNone\u001b[39;00m\n",
      "File \u001b[1;32m~\\anaconda3\\lib\\site-packages\\urllib3\\connectionpool.py:449\u001b[0m, in \u001b[0;36mHTTPConnectionPool._make_request\u001b[1;34m(self, conn, method, url, timeout, chunked, **httplib_request_kw)\u001b[0m\n\u001b[0;32m    444\u001b[0m             httplib_response \u001b[38;5;241m=\u001b[39m conn\u001b[38;5;241m.\u001b[39mgetresponse()\n\u001b[0;32m    445\u001b[0m         \u001b[38;5;28;01mexcept\u001b[39;00m \u001b[38;5;167;01mBaseException\u001b[39;00m \u001b[38;5;28;01mas\u001b[39;00m e:\n\u001b[0;32m    446\u001b[0m             \u001b[38;5;66;03m# Remove the TypeError from the exception chain in\u001b[39;00m\n\u001b[0;32m    447\u001b[0m             \u001b[38;5;66;03m# Python 3 (including for exceptions like SystemExit).\u001b[39;00m\n\u001b[0;32m    448\u001b[0m             \u001b[38;5;66;03m# Otherwise it looks like a bug in the code.\u001b[39;00m\n\u001b[1;32m--> 449\u001b[0m             \u001b[43msix\u001b[49m\u001b[38;5;241;43m.\u001b[39;49m\u001b[43mraise_from\u001b[49m\u001b[43m(\u001b[49m\u001b[43me\u001b[49m\u001b[43m,\u001b[49m\u001b[43m \u001b[49m\u001b[38;5;28;43;01mNone\u001b[39;49;00m\u001b[43m)\u001b[49m\n\u001b[0;32m    450\u001b[0m \u001b[38;5;28;01mexcept\u001b[39;00m (SocketTimeout, BaseSSLError, SocketError) \u001b[38;5;28;01mas\u001b[39;00m e:\n\u001b[0;32m    451\u001b[0m     \u001b[38;5;28mself\u001b[39m\u001b[38;5;241m.\u001b[39m_raise_timeout(err\u001b[38;5;241m=\u001b[39me, url\u001b[38;5;241m=\u001b[39murl, timeout_value\u001b[38;5;241m=\u001b[39mread_timeout)\n",
      "File \u001b[1;32m<string>:3\u001b[0m, in \u001b[0;36mraise_from\u001b[1;34m(value, from_value)\u001b[0m\n",
      "File \u001b[1;32m~\\anaconda3\\lib\\site-packages\\urllib3\\connectionpool.py:444\u001b[0m, in \u001b[0;36mHTTPConnectionPool._make_request\u001b[1;34m(self, conn, method, url, timeout, chunked, **httplib_request_kw)\u001b[0m\n\u001b[0;32m    441\u001b[0m \u001b[38;5;28;01mexcept\u001b[39;00m \u001b[38;5;167;01mTypeError\u001b[39;00m:\n\u001b[0;32m    442\u001b[0m     \u001b[38;5;66;03m# Python 3\u001b[39;00m\n\u001b[0;32m    443\u001b[0m     \u001b[38;5;28;01mtry\u001b[39;00m:\n\u001b[1;32m--> 444\u001b[0m         httplib_response \u001b[38;5;241m=\u001b[39m \u001b[43mconn\u001b[49m\u001b[38;5;241;43m.\u001b[39;49m\u001b[43mgetresponse\u001b[49m\u001b[43m(\u001b[49m\u001b[43m)\u001b[49m\n\u001b[0;32m    445\u001b[0m     \u001b[38;5;28;01mexcept\u001b[39;00m \u001b[38;5;167;01mBaseException\u001b[39;00m \u001b[38;5;28;01mas\u001b[39;00m e:\n\u001b[0;32m    446\u001b[0m         \u001b[38;5;66;03m# Remove the TypeError from the exception chain in\u001b[39;00m\n\u001b[0;32m    447\u001b[0m         \u001b[38;5;66;03m# Python 3 (including for exceptions like SystemExit).\u001b[39;00m\n\u001b[0;32m    448\u001b[0m         \u001b[38;5;66;03m# Otherwise it looks like a bug in the code.\u001b[39;00m\n\u001b[0;32m    449\u001b[0m         six\u001b[38;5;241m.\u001b[39mraise_from(e, \u001b[38;5;28;01mNone\u001b[39;00m)\n",
      "File \u001b[1;32m~\\anaconda3\\lib\\http\\client.py:1377\u001b[0m, in \u001b[0;36mHTTPConnection.getresponse\u001b[1;34m(self)\u001b[0m\n\u001b[0;32m   1375\u001b[0m \u001b[38;5;28;01mtry\u001b[39;00m:\n\u001b[0;32m   1376\u001b[0m     \u001b[38;5;28;01mtry\u001b[39;00m:\n\u001b[1;32m-> 1377\u001b[0m         \u001b[43mresponse\u001b[49m\u001b[38;5;241;43m.\u001b[39;49m\u001b[43mbegin\u001b[49m\u001b[43m(\u001b[49m\u001b[43m)\u001b[49m\n\u001b[0;32m   1378\u001b[0m     \u001b[38;5;28;01mexcept\u001b[39;00m \u001b[38;5;167;01mConnectionError\u001b[39;00m:\n\u001b[0;32m   1379\u001b[0m         \u001b[38;5;28mself\u001b[39m\u001b[38;5;241m.\u001b[39mclose()\n",
      "File \u001b[1;32m~\\anaconda3\\lib\\http\\client.py:320\u001b[0m, in \u001b[0;36mHTTPResponse.begin\u001b[1;34m(self)\u001b[0m\n\u001b[0;32m    318\u001b[0m \u001b[38;5;66;03m# read until we get a non-100 response\u001b[39;00m\n\u001b[0;32m    319\u001b[0m \u001b[38;5;28;01mwhile\u001b[39;00m \u001b[38;5;28;01mTrue\u001b[39;00m:\n\u001b[1;32m--> 320\u001b[0m     version, status, reason \u001b[38;5;241m=\u001b[39m \u001b[38;5;28;43mself\u001b[39;49m\u001b[38;5;241;43m.\u001b[39;49m\u001b[43m_read_status\u001b[49m\u001b[43m(\u001b[49m\u001b[43m)\u001b[49m\n\u001b[0;32m    321\u001b[0m     \u001b[38;5;28;01mif\u001b[39;00m status \u001b[38;5;241m!=\u001b[39m CONTINUE:\n\u001b[0;32m    322\u001b[0m         \u001b[38;5;28;01mbreak\u001b[39;00m\n",
      "File \u001b[1;32m~\\anaconda3\\lib\\http\\client.py:281\u001b[0m, in \u001b[0;36mHTTPResponse._read_status\u001b[1;34m(self)\u001b[0m\n\u001b[0;32m    280\u001b[0m \u001b[38;5;28;01mdef\u001b[39;00m \u001b[38;5;21m_read_status\u001b[39m(\u001b[38;5;28mself\u001b[39m):\n\u001b[1;32m--> 281\u001b[0m     line \u001b[38;5;241m=\u001b[39m \u001b[38;5;28mstr\u001b[39m(\u001b[38;5;28;43mself\u001b[39;49m\u001b[38;5;241;43m.\u001b[39;49m\u001b[43mfp\u001b[49m\u001b[38;5;241;43m.\u001b[39;49m\u001b[43mreadline\u001b[49m\u001b[43m(\u001b[49m\u001b[43m_MAXLINE\u001b[49m\u001b[43m \u001b[49m\u001b[38;5;241;43m+\u001b[39;49m\u001b[43m \u001b[49m\u001b[38;5;241;43m1\u001b[39;49m\u001b[43m)\u001b[49m, \u001b[38;5;124m\"\u001b[39m\u001b[38;5;124miso-8859-1\u001b[39m\u001b[38;5;124m\"\u001b[39m)\n\u001b[0;32m    282\u001b[0m     \u001b[38;5;28;01mif\u001b[39;00m \u001b[38;5;28mlen\u001b[39m(line) \u001b[38;5;241m>\u001b[39m _MAXLINE:\n\u001b[0;32m    283\u001b[0m         \u001b[38;5;28;01mraise\u001b[39;00m LineTooLong(\u001b[38;5;124m\"\u001b[39m\u001b[38;5;124mstatus line\u001b[39m\u001b[38;5;124m\"\u001b[39m)\n",
      "File \u001b[1;32m~\\anaconda3\\lib\\socket.py:704\u001b[0m, in \u001b[0;36mSocketIO.readinto\u001b[1;34m(self, b)\u001b[0m\n\u001b[0;32m    702\u001b[0m \u001b[38;5;28;01mwhile\u001b[39;00m \u001b[38;5;28;01mTrue\u001b[39;00m:\n\u001b[0;32m    703\u001b[0m     \u001b[38;5;28;01mtry\u001b[39;00m:\n\u001b[1;32m--> 704\u001b[0m         \u001b[38;5;28;01mreturn\u001b[39;00m \u001b[38;5;28;43mself\u001b[39;49m\u001b[38;5;241;43m.\u001b[39;49m\u001b[43m_sock\u001b[49m\u001b[38;5;241;43m.\u001b[39;49m\u001b[43mrecv_into\u001b[49m\u001b[43m(\u001b[49m\u001b[43mb\u001b[49m\u001b[43m)\u001b[49m\n\u001b[0;32m    705\u001b[0m     \u001b[38;5;28;01mexcept\u001b[39;00m timeout:\n\u001b[0;32m    706\u001b[0m         \u001b[38;5;28mself\u001b[39m\u001b[38;5;241m.\u001b[39m_timeout_occurred \u001b[38;5;241m=\u001b[39m \u001b[38;5;28;01mTrue\u001b[39;00m\n",
      "\u001b[1;31mKeyboardInterrupt\u001b[0m: "
     ]
    }
   ],
   "source": [
    "from bs4 import BeautifulSoup\n",
    "import requests\n",
    "\n",
    "# lists\n",
    "urls=[]\n",
    "\n",
    "# function created\n",
    "def scrape(site):\n",
    "    # getting the request from url\n",
    "    r = requests.get(site)\n",
    "    # converting the text\n",
    "    s = BeautifulSoup(r.text,\"html.parser\")\n",
    "    \n",
    "    for i in s.find_all(\"a\"):\n",
    "        href = i.attrs['href']\n",
    "        if href.startswith(\"/\"):\n",
    "            site = site+href\n",
    "            if site not in urls:\n",
    "                urls.append(site)\n",
    "                print(site)\n",
    "                # calling it self\n",
    "                scrape(site)\n",
    "\n",
    "# main function\n",
    "if __name__ ==\"__main__\":\n",
    "\n",
    "    # website to be scrape\n",
    "    site=\"https://www.w3schools.com/python/\"\n",
    "\n",
    "    # calling function\n",
    "    scrape(site)"
   ]
  },
  {
   "cell_type": "markdown",
   "id": "047b65fb",
   "metadata": {},
   "source": [
    "# Question 8 - Answer"
   ]
  },
  {
   "cell_type": "code",
   "execution_count": 11,
   "id": "a208a25d",
   "metadata": {},
   "outputs": [],
   "source": [
    "import sqlite3"
   ]
  },
  {
   "cell_type": "code",
   "execution_count": 12,
   "id": "b3f8ef0c",
   "metadata": {},
   "outputs": [],
   "source": [
    "con=sqlite3.connect('CountryInfo.db')\n",
    "cur=con.cursor()\n"
   ]
  },
  {
   "cell_type": "code",
   "execution_count": null,
   "id": "b70253bf",
   "metadata": {},
   "outputs": [],
   "source": [
    "cur.execute('create table World(City text,Country text,Season text,Temprature FLOAT,Rainfall FLOAT );');"
   ]
  },
  {
   "cell_type": "code",
   "execution_count": 16,
   "id": "7ea8ecba",
   "metadata": {},
   "outputs": [
    {
     "data": {
      "text/plain": [
       "<sqlite3.Cursor at 0x1925e5ce810>"
      ]
     },
     "execution_count": 16,
     "metadata": {},
     "output_type": "execute_result"
    }
   ],
   "source": [
    "#inserting records into table World\n",
    "cur.execute('INSERT INTO World(City,Country,Season,Temprature,Rainfall) VALUES(\"Mumbai\",\"India\",\"Winter\",24.8,5.9);')\n",
    "cur.execute('INSERT INTO World(City,Country,Season,Temprature,Rainfall) VALUES(\"Mumbai\",\"India\",\"Spring\",28.4,16.2);')\n",
    "cur.execute('INSERT INTO World(City,Country,Season,Temprature,Rainfall) VALUES(\"Mumbai\",\"India\",\"Summer\",27.9,1549.4);')\n",
    "cur.execute('INSERT INTO World(City,Country,Season,Temprature,Rainfall) VALUES(\"Mumbai\",\"India\",\"Fall\",27.6,346.0);')\n",
    "\n",
    "cur.execute('INSERT INTO World(City,Country,Season,Temprature,Rainfall) VALUES(\"London\",\"United Kingdom\",\"Winter\",4.2,207.7);')\n",
    "cur.execute('INSERT INTO World(City,Country,Season,Temprature,Rainfall) VALUES(\"London\",\"United Kingdom\",\"Spring\",8.3,169.6);')\n",
    "cur.execute('INSERT INTO World(City,Country,Season,Temprature,Rainfall) VALUES(\"London\",\"United Kingdom\",\"Summer\",15.7,157.0);')\n",
    "cur.execute('INSERT INTO World(City,Country,Season,Temprature,Rainfall) VALUES(\"London\",\"United Kingdom\",\"Fall\",10.4,218.5);')\n",
    "\n",
    "cur.execute('INSERT INTO World(City,Country,Season,Temprature,Rainfall) VALUES(\"Cairo\",\"Egypt\",\"Winter\",13.6,16.5);')\n",
    "cur.execute('INSERT INTO World(City,Country,Season,Temprature,Rainfall) VALUES(\"Cairo\",\"Egypt\",\"Spring\",20.7,6.5);')\n",
    "cur.execute('INSERT INTO World(City,Country,Season,Temprature,Rainfall) VALUES(\"Cairo\",\"Egypt\",\"Summer\",27.7,0.1);')\n",
    "cur.execute('INSERT INTO World(City,Country,Season,Temprature,Rainfall) VALUES(\"Cairo\",\"Egypt\",\"Fall\",22.2,4.5);')"
   ]
  },
  {
   "cell_type": "code",
   "execution_count": 17,
   "id": "b37144e4",
   "metadata": {},
   "outputs": [
    {
     "name": "stdout",
     "output_type": "stream",
     "text": [
      "(24.8,)\n",
      "(28.4,)\n",
      "(27.9,)\n",
      "(27.6,)\n",
      "(4.2,)\n",
      "(8.3,)\n",
      "(15.7,)\n",
      "(10.4,)\n",
      "(13.6,)\n",
      "(20.7,)\n",
      "(27.7,)\n",
      "(22.2,)\n"
     ]
    }
   ],
   "source": [
    "#a) All the temperature data.\n",
    "for row in cur.execute('SELECT Temprature FROM World;'):\n",
    "    print(row)"
   ]
  },
  {
   "cell_type": "code",
   "execution_count": 18,
   "id": "ea358caf",
   "metadata": {},
   "outputs": [
    {
     "name": "stdout",
     "output_type": "stream",
     "text": [
      "('Mumbai',)\n",
      "('London',)\n",
      "('Cairo',)\n"
     ]
    }
   ],
   "source": [
    "#b) All the cities, but without repetition.\n",
    "for row in cur.execute('SELECT DISTINCT City FROM World;'):\n",
    "    print(row)"
   ]
  },
  {
   "cell_type": "code",
   "execution_count": 19,
   "id": "c5a15172",
   "metadata": {},
   "outputs": [
    {
     "name": "stdout",
     "output_type": "stream",
     "text": [
      "('Mumbai', 'India', 'Winter', 24.8, 5.9)\n",
      "('Mumbai', 'India', 'Spring', 28.4, 16.2)\n",
      "('Mumbai', 'India', 'Summer', 27.9, 1549.4)\n",
      "('Mumbai', 'India', 'Fall', 27.6, 346.0)\n"
     ]
    }
   ],
   "source": [
    "#c) All the records for India.\n",
    "for row in cur.execute('SELECT * FROM World WHERE Country = \"India\";'):\n",
    "    print(row)"
   ]
  },
  {
   "cell_type": "code",
   "execution_count": 20,
   "id": "d8aeac3d",
   "metadata": {},
   "outputs": [
    {
     "name": "stdout",
     "output_type": "stream",
     "text": [
      "('Mumbai', 'India', 'Fall', 27.6, 346.0)\n",
      "('London', 'United Kingdom', 'Fall', 10.4, 218.5)\n",
      "('Cairo', 'Egypt', 'Fall', 22.2, 4.5)\n"
     ]
    }
   ],
   "source": [
    "#d) All the Fall records.\n",
    "for row in cur.execute('SELECT * FROM World WHERE Season = \"Fall\";'):\n",
    "    print(row)"
   ]
  },
  {
   "cell_type": "code",
   "execution_count": 60,
   "id": "43d95061",
   "metadata": {},
   "outputs": [
    {
     "name": "stdout",
     "output_type": "stream",
     "text": [
      "('Mumbai', 'India', 'Fall')\n",
      "('London', 'United Kingdom', 'Winter')\n",
      "('London', 'United Kingdom', 'Fall')\n"
     ]
    }
   ],
   "source": [
    "#e) The city, country, and season for which the average rainfall is between 200 and 400 millimeters.\n",
    "\n",
    "for row in cur.execute('SELECT City,Country,Season FROM World WHERE Rainfall BETWEEN 200 AND 400;'):\n",
    "    print(row)"
   ]
  },
  {
   "cell_type": "code",
   "execution_count": 62,
   "id": "1c8d10f3",
   "metadata": {},
   "outputs": [
    {
     "name": "stdout",
     "output_type": "stream",
     "text": [
      "('Cairo', 'Egypt')\n",
      "('Mumbai', 'India')\n"
     ]
    }
   ],
   "source": [
    "# f) The city and country for which the average Fall temperature is above 20 degrees, in increasing temperature order.\n",
    "# QUERY 1 - this for get only City and Country which have temprature above 20 degrees\n",
    "\n",
    "for row in cur.execute('SELECT City,Country FROM World WHERE Season = \"Fall\" AND Temprature > 20 ORDER BY Temprature;'):\n",
    "    print(row)"
   ]
  },
  {
   "cell_type": "code",
   "execution_count": 61,
   "id": "70b274c4",
   "metadata": {},
   "outputs": [
    {
     "name": "stdout",
     "output_type": "stream",
     "text": [
      "('Cairo', 'Egypt', 22.2)\n",
      "('Mumbai', 'India', 27.6)\n"
     ]
    }
   ],
   "source": [
    "# f) The city and country for which the average Fall temperature is above 20 degrees, in increasing temperature order.\n",
    "# QUERY 2 - this for get City and Country along with respective AVERAGE Fall Temprature above 20 degrees\n",
    "\n",
    "for row in cur.execute('SELECT City, Country, AVG(Temprature) FROM World WHERE Season = \"Fall\" GROUP BY City HAVING AVG(Temprature) > 20 ORDER BY Temprature;'):\n",
    "    print(row)"
   ]
  },
  {
   "cell_type": "code",
   "execution_count": 112,
   "id": "2f2a692c",
   "metadata": {},
   "outputs": [
    {
     "name": "stdout",
     "output_type": "stream",
     "text": [
      "(27.6,)\n"
     ]
    }
   ],
   "source": [
    "#g) The total annual rainfall for Cairo.\n",
    "for row in cur.execute('SELECT SUM(Rainfall) FROM World WHERE City = \"Cairo\";'):\n",
    "    print(row)"
   ]
  },
  {
   "cell_type": "code",
   "execution_count": 114,
   "id": "97fc3e9e",
   "metadata": {},
   "outputs": [
    {
     "name": "stdout",
     "output_type": "stream",
     "text": [
      "('Fall', 569.0)\n",
      "('Spring', 192.29999999999998)\n",
      "('Summer', 1706.5)\n",
      "('Winter', 230.1)\n"
     ]
    }
   ],
   "source": [
    "#h) The total rainfall for each season.\n",
    "for row in cur.execute('SELECT Season, SUM(Rainfall) FROM World GROUP BY Season;'):\n",
    "    print(row)"
   ]
  },
  {
   "cell_type": "markdown",
   "id": "b8779828",
   "metadata": {},
   "source": [
    "# Question 9 - Answer"
   ]
  },
  {
   "cell_type": "code",
   "execution_count": 120,
   "id": "f8bd6dd3",
   "metadata": {},
   "outputs": [],
   "source": [
    "words = ['The', 'quick', 'brown', 'fox', 'jumps', 'over', 'the', 'lazy', 'dog']"
   ]
  },
  {
   "cell_type": "code",
   "execution_count": 118,
   "id": "ca6061af",
   "metadata": {},
   "outputs": [
    {
     "name": "stdout",
     "output_type": "stream",
     "text": [
      "['THE', 'QUICK', 'BROWN', 'FOX', 'JUMPS', 'OVER', 'THE', 'LAZY', 'DOG']\n"
     ]
    }
   ],
   "source": [
    "# a) ['THE', 'QUICK', 'BROWN', 'FOX', 'JUMPS', 'OVER', 'THE', 'LAZY', 'DOG']\n",
    "newWordsList1 = [w.upper() for w in words]\n",
    "print(newWordsList1)"
   ]
  },
  {
   "cell_type": "code",
   "execution_count": 122,
   "id": "dc0ebceb",
   "metadata": {},
   "outputs": [
    {
     "name": "stdout",
     "output_type": "stream",
     "text": [
      "['the', 'quick', 'brown', 'fox', 'jumps', 'over', 'the', 'lazy', 'dog']\n"
     ]
    }
   ],
   "source": [
    "# b) ['the', 'quick', 'brown', 'fox', 'jumps', 'over', 'the', 'lazy', 'dog']\n",
    "newWordsList2 = [w.lower() for w in words]\n",
    "print(newWordsList2)"
   ]
  },
  {
   "cell_type": "code",
   "execution_count": 123,
   "id": "baa016c1",
   "metadata": {},
   "outputs": [
    {
     "name": "stdout",
     "output_type": "stream",
     "text": [
      "[3, 5, 5, 3, 5, 4, 3, 4, 3]\n"
     ]
    }
   ],
   "source": [
    "# c) [3, 5, 5, 3, 5, 4, 3, 4, 3] (the list of lengths of words in list words).\n",
    "newWordsList3 = [len(w) for w in words]\n",
    "print(newWordsList3)"
   ]
  },
  {
   "cell_type": "code",
   "execution_count": 125,
   "id": "39041eb7",
   "metadata": {},
   "outputs": [
    {
     "name": "stdout",
     "output_type": "stream",
     "text": [
      "[['THE', 'the', 3], ['QUICK', 'quick', 5], ['BROWN', 'brown', 5], ['FOX', 'fox', 3], ['JUMPS', 'jumps', 5], ['OVER', 'over', 4], ['THE', 'the', 3], ['LAZY', 'lazy', 4], ['DOG', 'dog', 3]]\n"
     ]
    }
   ],
   "source": [
    "# d) [['THE', 'the', 3], ['QUICK', 'quick', 5], ['BROWN', 'brown', 5], ['FOX', 'fox', 3], ['JUMPS', 'jumps', 5], ['OVER', 'over', 4], ['THE', 'the', 3], ['LAZY', 'lazy', 4], ['DOG', 'dog', 3]] (the list containing a list for every word of list words, where each list contains the word in uppercase and lowercase and the length of the word.)\n",
    "newWordsList4 = [[w.upper(),w.lower(),len(w) ] for w in words]\n",
    "print(newWordsList4)"
   ]
  },
  {
   "cell_type": "code",
   "execution_count": 124,
   "id": "75b1c392",
   "metadata": {},
   "outputs": [
    {
     "name": "stdout",
     "output_type": "stream",
     "text": [
      "['quick', 'brown', 'jumps', 'over', 'lazy']\n"
     ]
    }
   ],
   "source": [
    "# e) ['quick', 'brown', 'jumps', 'over', 'lazy'] (the list of words in list words containing 4 or more characters.)\n",
    "newWordsList5 = [w for w in words if len(w) >= 4]\n",
    "print(newWordsList5)"
   ]
  }
 ],
 "metadata": {
  "kernelspec": {
   "display_name": "Python 3 (ipykernel)",
   "language": "python",
   "name": "python3"
  },
  "language_info": {
   "codemirror_mode": {
    "name": "ipython",
    "version": 3
   },
   "file_extension": ".py",
   "mimetype": "text/x-python",
   "name": "python",
   "nbconvert_exporter": "python",
   "pygments_lexer": "ipython3",
   "version": "3.9.12"
  }
 },
 "nbformat": 4,
 "nbformat_minor": 5
}
